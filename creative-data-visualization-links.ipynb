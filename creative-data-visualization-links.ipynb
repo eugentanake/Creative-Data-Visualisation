{
 "cells": [
  {
   "cell_type": "markdown",
   "id": "61101ae8",
   "metadata": {
    "_cell_guid": "b1076dfc-b9ad-4769-8c92-a6c4dae69d19",
    "_uuid": "8f2839f25d086af736a60e9eeb907d3b93b6e0e5",
    "papermill": {
     "duration": 0.002241,
     "end_time": "2022-06-11T08:32:43.386686",
     "exception": false,
     "start_time": "2022-06-11T08:32:43.384445",
     "status": "completed"
    },
    "tags": []
   },
   "source": [
    "Hi! If you are seeing this, I'm sorry to say that for some reasons, kaggle notebooks with animation are not able to be committed to GitHub.\n",
    "\n",
    "Do go to these links directly to take a look!\n",
    "\n",
    "Pt 3 - Dynamic Plotting, see how i managed to run FuncAnimation using the picture and equations I previously obtained.\n",
    "https://www.kaggle.com/code/eugenetanake/creative-data-visualization-pt-3-dynamic-plot\n",
    "\n",
    "Pt 4 - Math. A little bit of math is involved when I calculate the rate at which the tide changes. However the end is in sight!\n",
    "https://www.kaggle.com/code/eugenetanake/creative-data-visualization-pt-4-math"
   ]
  },
  {
   "cell_type": "code",
   "execution_count": null,
   "id": "3934285a",
   "metadata": {
    "papermill": {
     "duration": 0.000998,
     "end_time": "2022-06-11T08:32:43.389154",
     "exception": false,
     "start_time": "2022-06-11T08:32:43.388156",
     "status": "completed"
    },
    "tags": []
   },
   "outputs": [],
   "source": []
  }
 ],
 "metadata": {
  "kernelspec": {
   "display_name": "Python 3",
   "language": "python",
   "name": "python3"
  },
  "language_info": {
   "codemirror_mode": {
    "name": "ipython",
    "version": 3
   },
   "file_extension": ".py",
   "mimetype": "text/x-python",
   "name": "python",
   "nbconvert_exporter": "python",
   "pygments_lexer": "ipython3",
   "version": "3.7.12"
  },
  "papermill": {
   "default_parameters": {},
   "duration": 9.425247,
   "end_time": "2022-06-11T08:32:44.012993",
   "environment_variables": {},
   "exception": null,
   "input_path": "__notebook__.ipynb",
   "output_path": "__notebook__.ipynb",
   "parameters": {},
   "start_time": "2022-06-11T08:32:34.587746",
   "version": "2.3.4"
  }
 },
 "nbformat": 4,
 "nbformat_minor": 5
}
