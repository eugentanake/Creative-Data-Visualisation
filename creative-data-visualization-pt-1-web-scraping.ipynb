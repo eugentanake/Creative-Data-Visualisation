{
 "cells": [
  {
   "cell_type": "markdown",
   "id": "cf5a1797",
   "metadata": {
    "papermill": {
     "duration": 0.004703,
     "end_time": "2022-06-08T11:56:15.293627",
     "exception": false,
     "start_time": "2022-06-08T11:56:15.288924",
     "status": "completed"
    },
    "tags": []
   },
   "source": [
    "Hi, this Dynamic Data Visualization will be rather unique as it is meant to be creative. I would be using equations to mimic the motion of waves.\n",
    "\n",
    "The data would be of the time and height of high and low tide for the month of Jun and Jul 2022.\n",
    "\n",
    "The webpage: https://www.nea.gov.sg/weather/tide-timings\n",
    "\n",
    "In short:\n",
    "\n",
    "1) Saw website, had inspiration (Date of visit: Early June 2022)\n",
    "\n",
    "2) Went to find picture I could use, found http://www.supercoloring.com/coloring-pages/summer-beach-scene (It is written at the bottom of the page that it is free.)\n",
    "\n",
    "3) After researching for ways to mimic the waves, found this website https://help.desmos.com/hc/en-us/articles/202529069-Sliders-and-Movable-Points which led to https://www.desmos.com/calculator/opox7hzmhh"
   ]
  },
  {
   "cell_type": "code",
   "execution_count": 1,
   "id": "9a60d1b7",
   "metadata": {
    "_cell_guid": "b1076dfc-b9ad-4769-8c92-a6c4dae69d19",
    "_uuid": "8f2839f25d086af736a60e9eeb907d3b93b6e0e5",
    "execution": {
     "iopub.execute_input": "2022-06-08T11:56:15.306015Z",
     "iopub.status.busy": "2022-06-08T11:56:15.305157Z",
     "iopub.status.idle": "2022-06-08T11:56:15.531982Z",
     "shell.execute_reply": "2022-06-08T11:56:15.530982Z"
    },
    "papermill": {
     "duration": 0.234712,
     "end_time": "2022-06-08T11:56:15.534652",
     "exception": false,
     "start_time": "2022-06-08T11:56:15.299940",
     "status": "completed"
    },
    "tags": []
   },
   "outputs": [],
   "source": [
    "# import libraries\n",
    "import requests\n",
    "import pandas as pd # data processing, CSV file I/O (e.g. pd.read_csv)\n",
    "from bs4 import BeautifulSoup\n",
    "import os"
   ]
  },
  {
   "cell_type": "code",
   "execution_count": 2,
   "id": "6859fcbb",
   "metadata": {
    "execution": {
     "iopub.execute_input": "2022-06-08T11:56:15.544541Z",
     "iopub.status.busy": "2022-06-08T11:56:15.543610Z",
     "iopub.status.idle": "2022-06-08T11:56:16.634346Z",
     "shell.execute_reply": "2022-06-08T11:56:16.633378Z"
    },
    "papermill": {
     "duration": 1.098147,
     "end_time": "2022-06-08T11:56:16.636790",
     "exception": false,
     "start_time": "2022-06-08T11:56:15.538643",
     "status": "completed"
    },
    "tags": []
   },
   "outputs": [],
   "source": [
    "url = 'https://www.nea.gov.sg/weather/tide-timings'\n",
    "req = requests.get(url).text\n",
    "soup = BeautifulSoup(req)\n",
    "jun = soup.find('div',{'id':'Jun'}) # can use class: 'forecast-widget__content tab__item is-active'\n",
    "jul = soup.find('div',{'id':'Jul'}) # can use class: 'forecast-widget__content tab__item'"
   ]
  },
  {
   "cell_type": "code",
   "execution_count": 3,
   "id": "dfa4368d",
   "metadata": {
    "execution": {
     "iopub.execute_input": "2022-06-08T11:56:16.645934Z",
     "iopub.status.busy": "2022-06-08T11:56:16.645555Z",
     "iopub.status.idle": "2022-06-08T11:56:16.653853Z",
     "shell.execute_reply": "2022-06-08T11:56:16.652786Z"
    },
    "papermill": {
     "duration": 0.01532,
     "end_time": "2022-06-08T11:56:16.656022",
     "exception": false,
     "start_time": "2022-06-08T11:56:16.640702",
     "status": "completed"
    },
    "tags": []
   },
   "outputs": [],
   "source": [
    "junData = jun.find_all('tr')\n",
    "julData = jul.find_all('tr')"
   ]
  },
  {
   "cell_type": "code",
   "execution_count": 4,
   "id": "441cc7ba",
   "metadata": {
    "execution": {
     "iopub.execute_input": "2022-06-08T11:56:16.665117Z",
     "iopub.status.busy": "2022-06-08T11:56:16.664715Z",
     "iopub.status.idle": "2022-06-08T11:56:16.777966Z",
     "shell.execute_reply": "2022-06-08T11:56:16.777029Z"
    },
    "papermill": {
     "duration": 0.120143,
     "end_time": "2022-06-08T11:56:16.780040",
     "exception": false,
     "start_time": "2022-06-08T11:56:16.659897",
     "status": "completed"
    },
    "tags": []
   },
   "outputs": [
    {
     "data": {
      "text/plain": [
       "[['Jun', 'Tide'],\n",
       " ['Time', 'Height', 'H/L'],\n",
       " ['1', '0611', '0.2', 'L'],\n",
       " ['1309', '2.5', 'H'],\n",
       " ['1828', '1.3', 'L']]"
      ]
     },
     "execution_count": 4,
     "metadata": {},
     "output_type": "execute_result"
    }
   ],
   "source": [
    "dataList = []\n",
    "for i in junData:\n",
    "    dataList.append(i.text.split())\n",
    "dataList[0:5]"
   ]
  },
  {
   "cell_type": "code",
   "execution_count": 5,
   "id": "6a083acd",
   "metadata": {
    "execution": {
     "iopub.execute_input": "2022-06-08T11:56:16.789604Z",
     "iopub.status.busy": "2022-06-08T11:56:16.789176Z",
     "iopub.status.idle": "2022-06-08T11:56:16.798974Z",
     "shell.execute_reply": "2022-06-08T11:56:16.797822Z"
    },
    "papermill": {
     "duration": 0.017231,
     "end_time": "2022-06-08T11:56:16.801243",
     "exception": false,
     "start_time": "2022-06-08T11:56:16.784012",
     "status": "completed"
    },
    "tags": []
   },
   "outputs": [],
   "source": [
    "tempDate = 0\n",
    "dateList = []\n",
    "timeList = []\n",
    "heightList = []\n",
    "highLowList = []\n",
    "\n",
    "for i in junData[2:]:\n",
    "    tempList = i.text.split()\n",
    "    if len(tempList) == 4:\n",
    "        tempDate = tempList[0]\n",
    "    dateList.append(tempDate)\n",
    "    timeList.append(tempList[-3])\n",
    "    heightList.append(tempList[-2])\n",
    "    highLowList.append(tempList[-1])"
   ]
  },
  {
   "cell_type": "code",
   "execution_count": 6,
   "id": "bfc38c8e",
   "metadata": {
    "execution": {
     "iopub.execute_input": "2022-06-08T11:56:16.810885Z",
     "iopub.status.busy": "2022-06-08T11:56:16.810486Z",
     "iopub.status.idle": "2022-06-08T11:56:16.834632Z",
     "shell.execute_reply": "2022-06-08T11:56:16.833892Z"
    },
    "papermill": {
     "duration": 0.031238,
     "end_time": "2022-06-08T11:56:16.836595",
     "exception": false,
     "start_time": "2022-06-08T11:56:16.805357",
     "status": "completed"
    },
    "tags": []
   },
   "outputs": [
    {
     "data": {
      "text/html": [
       "<div>\n",
       "<style scoped>\n",
       "    .dataframe tbody tr th:only-of-type {\n",
       "        vertical-align: middle;\n",
       "    }\n",
       "\n",
       "    .dataframe tbody tr th {\n",
       "        vertical-align: top;\n",
       "    }\n",
       "\n",
       "    .dataframe thead th {\n",
       "        text-align: right;\n",
       "    }\n",
       "</style>\n",
       "<table border=\"1\" class=\"dataframe\">\n",
       "  <thead>\n",
       "    <tr style=\"text-align: right;\">\n",
       "      <th></th>\n",
       "      <th>date</th>\n",
       "      <th>time</th>\n",
       "      <th>height</th>\n",
       "      <th>high low</th>\n",
       "    </tr>\n",
       "  </thead>\n",
       "  <tbody>\n",
       "    <tr>\n",
       "      <th>0</th>\n",
       "      <td>1</td>\n",
       "      <td>0611</td>\n",
       "      <td>0.2</td>\n",
       "      <td>L</td>\n",
       "    </tr>\n",
       "    <tr>\n",
       "      <th>1</th>\n",
       "      <td>1</td>\n",
       "      <td>1309</td>\n",
       "      <td>2.5</td>\n",
       "      <td>H</td>\n",
       "    </tr>\n",
       "    <tr>\n",
       "      <th>2</th>\n",
       "      <td>1</td>\n",
       "      <td>1828</td>\n",
       "      <td>1.3</td>\n",
       "      <td>L</td>\n",
       "    </tr>\n",
       "    <tr>\n",
       "      <th>3</th>\n",
       "      <td>1</td>\n",
       "      <td>2358</td>\n",
       "      <td>2.8</td>\n",
       "      <td>H</td>\n",
       "    </tr>\n",
       "    <tr>\n",
       "      <th>4</th>\n",
       "      <td>2</td>\n",
       "      <td>0646</td>\n",
       "      <td>0.2</td>\n",
       "      <td>L</td>\n",
       "    </tr>\n",
       "    <tr>\n",
       "      <th>...</th>\n",
       "      <td>...</td>\n",
       "      <td>...</td>\n",
       "      <td>...</td>\n",
       "      <td>...</td>\n",
       "    </tr>\n",
       "    <tr>\n",
       "      <th>111</th>\n",
       "      <td>29</td>\n",
       "      <td>2313</td>\n",
       "      <td>2.8</td>\n",
       "      <td>H</td>\n",
       "    </tr>\n",
       "    <tr>\n",
       "      <th>112</th>\n",
       "      <td>30</td>\n",
       "      <td>0556</td>\n",
       "      <td>0.2</td>\n",
       "      <td>L</td>\n",
       "    </tr>\n",
       "    <tr>\n",
       "      <th>113</th>\n",
       "      <td>30</td>\n",
       "      <td>1300</td>\n",
       "      <td>2.5</td>\n",
       "      <td>H</td>\n",
       "    </tr>\n",
       "    <tr>\n",
       "      <th>114</th>\n",
       "      <td>30</td>\n",
       "      <td>1805</td>\n",
       "      <td>1.3</td>\n",
       "      <td>L</td>\n",
       "    </tr>\n",
       "    <tr>\n",
       "      <th>115</th>\n",
       "      <td>30</td>\n",
       "      <td>2346</td>\n",
       "      <td>2.8</td>\n",
       "      <td>H</td>\n",
       "    </tr>\n",
       "  </tbody>\n",
       "</table>\n",
       "<p>116 rows × 4 columns</p>\n",
       "</div>"
      ],
      "text/plain": [
       "    date  time height high low\n",
       "0      1  0611    0.2        L\n",
       "1      1  1309    2.5        H\n",
       "2      1  1828    1.3        L\n",
       "3      1  2358    2.8        H\n",
       "4      2  0646    0.2        L\n",
       "..   ...   ...    ...      ...\n",
       "111   29  2313    2.8        H\n",
       "112   30  0556    0.2        L\n",
       "113   30  1300    2.5        H\n",
       "114   30  1805    1.3        L\n",
       "115   30  2346    2.8        H\n",
       "\n",
       "[116 rows x 4 columns]"
      ]
     },
     "execution_count": 6,
     "metadata": {},
     "output_type": "execute_result"
    }
   ],
   "source": [
    "dfJun = pd.DataFrame(list(zip(dateList,timeList,heightList,highLowList)),\n",
    "                    columns = ['date','time','height','high low'])\n",
    "dfJun"
   ]
  },
  {
   "cell_type": "code",
   "execution_count": 7,
   "id": "1591d1ad",
   "metadata": {
    "execution": {
     "iopub.execute_input": "2022-06-08T11:56:16.847250Z",
     "iopub.status.busy": "2022-06-08T11:56:16.846300Z",
     "iopub.status.idle": "2022-06-08T11:56:16.854616Z",
     "shell.execute_reply": "2022-06-08T11:56:16.853767Z"
    },
    "papermill": {
     "duration": 0.016076,
     "end_time": "2022-06-08T11:56:16.857007",
     "exception": false,
     "start_time": "2022-06-08T11:56:16.840931",
     "status": "completed"
    },
    "tags": []
   },
   "outputs": [],
   "source": [
    "tempDate = 0\n",
    "dateList = []\n",
    "timeList = []\n",
    "heightList = []\n",
    "highLowList = []\n",
    "\n",
    "for i in julData[2:]:\n",
    "    tempList = i.text.split()\n",
    "    if len(tempList) == 4:\n",
    "        tempDate = tempList[0]\n",
    "    dateList.append(tempDate)\n",
    "    timeList.append(tempList[-3])\n",
    "    heightList.append(tempList[-2])\n",
    "    highLowList.append(tempList[-1])"
   ]
  },
  {
   "cell_type": "code",
   "execution_count": 8,
   "id": "8e7038eb",
   "metadata": {
    "execution": {
     "iopub.execute_input": "2022-06-08T11:56:16.867623Z",
     "iopub.status.busy": "2022-06-08T11:56:16.866966Z",
     "iopub.status.idle": "2022-06-08T11:56:16.882260Z",
     "shell.execute_reply": "2022-06-08T11:56:16.881334Z"
    },
    "papermill": {
     "duration": 0.023539,
     "end_time": "2022-06-08T11:56:16.884854",
     "exception": false,
     "start_time": "2022-06-08T11:56:16.861315",
     "status": "completed"
    },
    "tags": []
   },
   "outputs": [
    {
     "data": {
      "text/html": [
       "<div>\n",
       "<style scoped>\n",
       "    .dataframe tbody tr th:only-of-type {\n",
       "        vertical-align: middle;\n",
       "    }\n",
       "\n",
       "    .dataframe tbody tr th {\n",
       "        vertical-align: top;\n",
       "    }\n",
       "\n",
       "    .dataframe thead th {\n",
       "        text-align: right;\n",
       "    }\n",
       "</style>\n",
       "<table border=\"1\" class=\"dataframe\">\n",
       "  <thead>\n",
       "    <tr style=\"text-align: right;\">\n",
       "      <th></th>\n",
       "      <th>date</th>\n",
       "      <th>time</th>\n",
       "      <th>height</th>\n",
       "      <th>high low</th>\n",
       "    </tr>\n",
       "  </thead>\n",
       "  <tbody>\n",
       "    <tr>\n",
       "      <th>0</th>\n",
       "      <td>1</td>\n",
       "      <td>0631</td>\n",
       "      <td>0.2</td>\n",
       "      <td>L</td>\n",
       "    </tr>\n",
       "    <tr>\n",
       "      <th>1</th>\n",
       "      <td>1</td>\n",
       "      <td>1333</td>\n",
       "      <td>2.5</td>\n",
       "      <td>H</td>\n",
       "    </tr>\n",
       "    <tr>\n",
       "      <th>2</th>\n",
       "      <td>1</td>\n",
       "      <td>1841</td>\n",
       "      <td>1.3</td>\n",
       "      <td>L</td>\n",
       "    </tr>\n",
       "    <tr>\n",
       "      <th>3</th>\n",
       "      <td>1</td>\n",
       "      <td>0020</td>\n",
       "      <td>2.8</td>\n",
       "      <td>H</td>\n",
       "    </tr>\n",
       "    <tr>\n",
       "      <th>4</th>\n",
       "      <td>2</td>\n",
       "      <td>0707</td>\n",
       "      <td>0.3</td>\n",
       "      <td>L</td>\n",
       "    </tr>\n",
       "    <tr>\n",
       "      <th>...</th>\n",
       "      <td>...</td>\n",
       "      <td>...</td>\n",
       "      <td>...</td>\n",
       "      <td>...</td>\n",
       "    </tr>\n",
       "    <tr>\n",
       "      <th>115</th>\n",
       "      <td>30</td>\n",
       "      <td>0009</td>\n",
       "      <td>2.8</td>\n",
       "      <td>H</td>\n",
       "    </tr>\n",
       "    <tr>\n",
       "      <th>116</th>\n",
       "      <td>31</td>\n",
       "      <td>0652</td>\n",
       "      <td>0.3</td>\n",
       "      <td>L</td>\n",
       "    </tr>\n",
       "    <tr>\n",
       "      <th>117</th>\n",
       "      <td>31</td>\n",
       "      <td>1335</td>\n",
       "      <td>2.5</td>\n",
       "      <td>H</td>\n",
       "    </tr>\n",
       "    <tr>\n",
       "      <th>118</th>\n",
       "      <td>31</td>\n",
       "      <td>1858</td>\n",
       "      <td>1.2</td>\n",
       "      <td>L</td>\n",
       "    </tr>\n",
       "    <tr>\n",
       "      <th>119</th>\n",
       "      <td>31</td>\n",
       "      <td>0041</td>\n",
       "      <td>2.9</td>\n",
       "      <td>H</td>\n",
       "    </tr>\n",
       "  </tbody>\n",
       "</table>\n",
       "<p>120 rows × 4 columns</p>\n",
       "</div>"
      ],
      "text/plain": [
       "    date  time height high low\n",
       "0      1  0631    0.2        L\n",
       "1      1  1333    2.5        H\n",
       "2      1  1841    1.3        L\n",
       "3      1  0020    2.8        H\n",
       "4      2  0707    0.3        L\n",
       "..   ...   ...    ...      ...\n",
       "115   30  0009    2.8        H\n",
       "116   31  0652    0.3        L\n",
       "117   31  1335    2.5        H\n",
       "118   31  1858    1.2        L\n",
       "119   31  0041    2.9        H\n",
       "\n",
       "[120 rows x 4 columns]"
      ]
     },
     "execution_count": 8,
     "metadata": {},
     "output_type": "execute_result"
    }
   ],
   "source": [
    "dfJul = pd.DataFrame(list(zip(dateList,timeList,heightList,highLowList)),\n",
    "                    columns = ['date','time','height','high low'])\n",
    "dfJul"
   ]
  },
  {
   "cell_type": "code",
   "execution_count": 9,
   "id": "54486463",
   "metadata": {
    "execution": {
     "iopub.execute_input": "2022-06-08T11:56:16.896041Z",
     "iopub.status.busy": "2022-06-08T11:56:16.895058Z",
     "iopub.status.idle": "2022-06-08T11:56:16.904772Z",
     "shell.execute_reply": "2022-06-08T11:56:16.903924Z"
    },
    "papermill": {
     "duration": 0.017905,
     "end_time": "2022-06-08T11:56:16.907207",
     "exception": false,
     "start_time": "2022-06-08T11:56:16.889302",
     "status": "completed"
    },
    "tags": []
   },
   "outputs": [],
   "source": [
    "# save dataframe to csv file.\n",
    "os.chdir(r'/kaggle/working')\n",
    "\n",
    "dfJun.to_csv(r'jun.csv', index = False)\n",
    "dfJul.to_csv(r'jul.csv', index = False)"
   ]
  },
  {
   "cell_type": "code",
   "execution_count": null,
   "id": "0aeebf85",
   "metadata": {
    "papermill": {
     "duration": 0.004203,
     "end_time": "2022-06-08T11:56:16.915993",
     "exception": false,
     "start_time": "2022-06-08T11:56:16.911790",
     "status": "completed"
    },
    "tags": []
   },
   "outputs": [],
   "source": []
  }
 ],
 "metadata": {
  "kernelspec": {
   "display_name": "Python 3",
   "language": "python",
   "name": "python3"
  },
  "language_info": {
   "codemirror_mode": {
    "name": "ipython",
    "version": 3
   },
   "file_extension": ".py",
   "mimetype": "text/x-python",
   "name": "python",
   "nbconvert_exporter": "python",
   "pygments_lexer": "ipython3",
   "version": "3.7.12"
  },
  "papermill": {
   "default_parameters": {},
   "duration": 11.988868,
   "end_time": "2022-06-08T11:56:17.541762",
   "environment_variables": {},
   "exception": null,
   "input_path": "__notebook__.ipynb",
   "output_path": "__notebook__.ipynb",
   "parameters": {},
   "start_time": "2022-06-08T11:56:05.552894",
   "version": "2.3.4"
  }
 },
 "nbformat": 4,
 "nbformat_minor": 5
}
