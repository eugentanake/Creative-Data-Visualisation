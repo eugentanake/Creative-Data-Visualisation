{
 "cells": [
  {
   "cell_type": "markdown",
   "id": "b942ccf7",
   "metadata": {
    "papermill": {
     "duration": 0.003964,
     "end_time": "2022-06-08T11:51:43.540119",
     "exception": false,
     "start_time": "2022-06-08T11:51:43.536155",
     "status": "completed"
    },
    "tags": []
   },
   "source": [
    "Hi, this Dynamic Data Visualization will be rather unique as it is meant to be creative. I would be using equations to mimic the motion of waves.\n",
    "\n",
    "The data would be of the time and height of high and low tide for the month of Jun and Jul 2022.\n",
    "\n",
    "The webpage: https://www.nea.gov.sg/weather/tide-timings\n",
    "\n",
    "In short:\n",
    "\n",
    "1) Saw website, had inspiration (Date of visit: Early June 2022)\n",
    "\n",
    "2) Went to find picture I could use, found http://www.supercoloring.com/coloring-pages/summer-beach-scene (It is written at the bottom of the page that it is free.)\n",
    "\n",
    "3) After researching for ways to mimic the waves, found this website https://help.desmos.com/hc/en-us/articles/202529069-Sliders-and-Movable-Points which led to https://www.desmos.com/calculator/opox7hzmhh"
   ]
  },
  {
   "cell_type": "code",
   "execution_count": 1,
   "id": "2d0c55dd",
   "metadata": {
    "_cell_guid": "b1076dfc-b9ad-4769-8c92-a6c4dae69d19",
    "_uuid": "8f2839f25d086af736a60e9eeb907d3b93b6e0e5",
    "execution": {
     "iopub.execute_input": "2022-06-08T11:51:43.550579Z",
     "iopub.status.busy": "2022-06-08T11:51:43.549973Z",
     "iopub.status.idle": "2022-06-08T11:51:43.777259Z",
     "shell.execute_reply": "2022-06-08T11:51:43.776257Z"
    },
    "papermill": {
     "duration": 0.234392,
     "end_time": "2022-06-08T11:51:43.779994",
     "exception": false,
     "start_time": "2022-06-08T11:51:43.545602",
     "status": "completed"
    },
    "tags": []
   },
   "outputs": [],
   "source": [
    "# import libraries\n",
    "import requests\n",
    "import pandas as pd # data processing, CSV file I/O (e.g. pd.read_csv)\n",
    "from bs4 import BeautifulSoup\n",
    "import os"
   ]
  },
  {
   "cell_type": "code",
   "execution_count": 2,
   "id": "a8b9529c",
   "metadata": {
    "execution": {
     "iopub.execute_input": "2022-06-08T11:51:43.787656Z",
     "iopub.status.busy": "2022-06-08T11:51:43.787234Z",
     "iopub.status.idle": "2022-06-08T11:51:44.902497Z",
     "shell.execute_reply": "2022-06-08T11:51:44.901627Z"
    },
    "papermill": {
     "duration": 1.121616,
     "end_time": "2022-06-08T11:51:44.904683",
     "exception": false,
     "start_time": "2022-06-08T11:51:43.783067",
     "status": "completed"
    },
    "tags": []
   },
   "outputs": [],
   "source": [
    "url = 'https://www.nea.gov.sg/weather/tide-timings'\n",
    "req = requests.get(url).text\n",
    "soup = BeautifulSoup(req)\n",
    "jun = soup.find('div',{'id':'Jun'}) # can use class: 'forecast-widget__content tab__item is-active'\n",
    "jul = soup.find('div',{'id':'Jul'}) # can use class: 'forecast-widget__content tab__item'"
   ]
  },
  {
   "cell_type": "code",
   "execution_count": 3,
   "id": "2804386a",
   "metadata": {
    "execution": {
     "iopub.execute_input": "2022-06-08T11:51:44.912260Z",
     "iopub.status.busy": "2022-06-08T11:51:44.911665Z",
     "iopub.status.idle": "2022-06-08T11:51:44.917343Z",
     "shell.execute_reply": "2022-06-08T11:51:44.916629Z"
    },
    "papermill": {
     "duration": 0.011408,
     "end_time": "2022-06-08T11:51:44.919109",
     "exception": false,
     "start_time": "2022-06-08T11:51:44.907701",
     "status": "completed"
    },
    "tags": []
   },
   "outputs": [],
   "source": [
    "junData = jun.find_all('tr')\n",
    "julData = jul.find_all('tr')"
   ]
  },
  {
   "cell_type": "code",
   "execution_count": 4,
   "id": "8d0156c6",
   "metadata": {
    "execution": {
     "iopub.execute_input": "2022-06-08T11:51:44.926769Z",
     "iopub.status.busy": "2022-06-08T11:51:44.926099Z",
     "iopub.status.idle": "2022-06-08T11:51:45.031498Z",
     "shell.execute_reply": "2022-06-08T11:51:45.030778Z"
    },
    "papermill": {
     "duration": 0.111485,
     "end_time": "2022-06-08T11:51:45.033770",
     "exception": false,
     "start_time": "2022-06-08T11:51:44.922285",
     "status": "completed"
    },
    "tags": []
   },
   "outputs": [
    {
     "data": {
      "text/plain": [
       "[['Jun', 'Tide'],\n",
       " ['Time', 'Height', 'H/L'],\n",
       " ['1', '0611', '0.2', 'L'],\n",
       " ['1309', '2.5', 'H'],\n",
       " ['1828', '1.3', 'L']]"
      ]
     },
     "execution_count": 4,
     "metadata": {},
     "output_type": "execute_result"
    }
   ],
   "source": [
    "dataList = []\n",
    "for i in junData:\n",
    "    dataList.append(i.text.split())\n",
    "dataList[0:5]"
   ]
  },
  {
   "cell_type": "code",
   "execution_count": 5,
   "id": "ff4c437f",
   "metadata": {
    "execution": {
     "iopub.execute_input": "2022-06-08T11:51:45.041985Z",
     "iopub.status.busy": "2022-06-08T11:51:45.041479Z",
     "iopub.status.idle": "2022-06-08T11:51:45.047553Z",
     "shell.execute_reply": "2022-06-08T11:51:45.046847Z"
    },
    "papermill": {
     "duration": 0.012475,
     "end_time": "2022-06-08T11:51:45.049464",
     "exception": false,
     "start_time": "2022-06-08T11:51:45.036989",
     "status": "completed"
    },
    "tags": []
   },
   "outputs": [],
   "source": [
    "tempDate = 0\n",
    "dateList = []\n",
    "timeList = []\n",
    "heightList = []\n",
    "highLowList = []\n",
    "\n",
    "for i in junData[2:]:\n",
    "    tempList = i.text.split()\n",
    "    if len(tempList) == 4:\n",
    "        tempDate = tempList[0]\n",
    "    dateList.append(tempDate)\n",
    "    timeList.append(tempList[-3])\n",
    "    heightList.append(tempList[-2])\n",
    "    highLowList.append(tempList[-1])"
   ]
  },
  {
   "cell_type": "code",
   "execution_count": 6,
   "id": "409c73ad",
   "metadata": {
    "execution": {
     "iopub.execute_input": "2022-06-08T11:51:45.057262Z",
     "iopub.status.busy": "2022-06-08T11:51:45.056751Z",
     "iopub.status.idle": "2022-06-08T11:51:45.083297Z",
     "shell.execute_reply": "2022-06-08T11:51:45.082324Z"
    },
    "papermill": {
     "duration": 0.032699,
     "end_time": "2022-06-08T11:51:45.085373",
     "exception": false,
     "start_time": "2022-06-08T11:51:45.052674",
     "status": "completed"
    },
    "tags": []
   },
   "outputs": [
    {
     "data": {
      "text/html": [
       "<div>\n",
       "<style scoped>\n",
       "    .dataframe tbody tr th:only-of-type {\n",
       "        vertical-align: middle;\n",
       "    }\n",
       "\n",
       "    .dataframe tbody tr th {\n",
       "        vertical-align: top;\n",
       "    }\n",
       "\n",
       "    .dataframe thead th {\n",
       "        text-align: right;\n",
       "    }\n",
       "</style>\n",
       "<table border=\"1\" class=\"dataframe\">\n",
       "  <thead>\n",
       "    <tr style=\"text-align: right;\">\n",
       "      <th></th>\n",
       "      <th>date</th>\n",
       "      <th>time</th>\n",
       "      <th>height</th>\n",
       "      <th>high low</th>\n",
       "    </tr>\n",
       "  </thead>\n",
       "  <tbody>\n",
       "    <tr>\n",
       "      <th>0</th>\n",
       "      <td>1</td>\n",
       "      <td>0611</td>\n",
       "      <td>0.2</td>\n",
       "      <td>L</td>\n",
       "    </tr>\n",
       "    <tr>\n",
       "      <th>1</th>\n",
       "      <td>1</td>\n",
       "      <td>1309</td>\n",
       "      <td>2.5</td>\n",
       "      <td>H</td>\n",
       "    </tr>\n",
       "    <tr>\n",
       "      <th>2</th>\n",
       "      <td>1</td>\n",
       "      <td>1828</td>\n",
       "      <td>1.3</td>\n",
       "      <td>L</td>\n",
       "    </tr>\n",
       "    <tr>\n",
       "      <th>3</th>\n",
       "      <td>1</td>\n",
       "      <td>2358</td>\n",
       "      <td>2.8</td>\n",
       "      <td>H</td>\n",
       "    </tr>\n",
       "    <tr>\n",
       "      <th>4</th>\n",
       "      <td>2</td>\n",
       "      <td>0646</td>\n",
       "      <td>0.2</td>\n",
       "      <td>L</td>\n",
       "    </tr>\n",
       "    <tr>\n",
       "      <th>...</th>\n",
       "      <td>...</td>\n",
       "      <td>...</td>\n",
       "      <td>...</td>\n",
       "      <td>...</td>\n",
       "    </tr>\n",
       "    <tr>\n",
       "      <th>111</th>\n",
       "      <td>29</td>\n",
       "      <td>2313</td>\n",
       "      <td>2.8</td>\n",
       "      <td>H</td>\n",
       "    </tr>\n",
       "    <tr>\n",
       "      <th>112</th>\n",
       "      <td>30</td>\n",
       "      <td>0556</td>\n",
       "      <td>0.2</td>\n",
       "      <td>L</td>\n",
       "    </tr>\n",
       "    <tr>\n",
       "      <th>113</th>\n",
       "      <td>30</td>\n",
       "      <td>1300</td>\n",
       "      <td>2.5</td>\n",
       "      <td>H</td>\n",
       "    </tr>\n",
       "    <tr>\n",
       "      <th>114</th>\n",
       "      <td>30</td>\n",
       "      <td>1805</td>\n",
       "      <td>1.3</td>\n",
       "      <td>L</td>\n",
       "    </tr>\n",
       "    <tr>\n",
       "      <th>115</th>\n",
       "      <td>30</td>\n",
       "      <td>2346</td>\n",
       "      <td>2.8</td>\n",
       "      <td>H</td>\n",
       "    </tr>\n",
       "  </tbody>\n",
       "</table>\n",
       "<p>116 rows × 4 columns</p>\n",
       "</div>"
      ],
      "text/plain": [
       "    date  time height high low\n",
       "0      1  0611    0.2        L\n",
       "1      1  1309    2.5        H\n",
       "2      1  1828    1.3        L\n",
       "3      1  2358    2.8        H\n",
       "4      2  0646    0.2        L\n",
       "..   ...   ...    ...      ...\n",
       "111   29  2313    2.8        H\n",
       "112   30  0556    0.2        L\n",
       "113   30  1300    2.5        H\n",
       "114   30  1805    1.3        L\n",
       "115   30  2346    2.8        H\n",
       "\n",
       "[116 rows x 4 columns]"
      ]
     },
     "execution_count": 6,
     "metadata": {},
     "output_type": "execute_result"
    }
   ],
   "source": [
    "dfJun = pd.DataFrame(list(zip(dateList,timeList,heightList,highLowList)),\n",
    "                    columns = ['date','time','height','high low'])\n",
    "dfJun"
   ]
  },
  {
   "cell_type": "code",
   "execution_count": 7,
   "id": "1ec91cca",
   "metadata": {
    "execution": {
     "iopub.execute_input": "2022-06-08T11:51:45.093665Z",
     "iopub.status.busy": "2022-06-08T11:51:45.093188Z",
     "iopub.status.idle": "2022-06-08T11:51:45.100120Z",
     "shell.execute_reply": "2022-06-08T11:51:45.099051Z"
    },
    "papermill": {
     "duration": 0.01376,
     "end_time": "2022-06-08T11:51:45.102483",
     "exception": false,
     "start_time": "2022-06-08T11:51:45.088723",
     "status": "completed"
    },
    "tags": []
   },
   "outputs": [],
   "source": [
    "tempDate = 0\n",
    "dateList = []\n",
    "timeList = []\n",
    "heightList = []\n",
    "highLowList = []\n",
    "\n",
    "for i in julData[2:]:\n",
    "    tempList = i.text.split()\n",
    "    if len(tempList) == 4:\n",
    "        tempDate = tempList[0]\n",
    "    dateList.append(tempDate)\n",
    "    timeList.append(tempList[-3])\n",
    "    heightList.append(tempList[-2])\n",
    "    highLowList.append(tempList[-1])"
   ]
  },
  {
   "cell_type": "code",
   "execution_count": 8,
   "id": "6593f827",
   "metadata": {
    "execution": {
     "iopub.execute_input": "2022-06-08T11:51:45.110645Z",
     "iopub.status.busy": "2022-06-08T11:51:45.110254Z",
     "iopub.status.idle": "2022-06-08T11:51:45.125059Z",
     "shell.execute_reply": "2022-06-08T11:51:45.124250Z"
    },
    "papermill": {
     "duration": 0.021258,
     "end_time": "2022-06-08T11:51:45.127035",
     "exception": false,
     "start_time": "2022-06-08T11:51:45.105777",
     "status": "completed"
    },
    "tags": []
   },
   "outputs": [
    {
     "data": {
      "text/html": [
       "<div>\n",
       "<style scoped>\n",
       "    .dataframe tbody tr th:only-of-type {\n",
       "        vertical-align: middle;\n",
       "    }\n",
       "\n",
       "    .dataframe tbody tr th {\n",
       "        vertical-align: top;\n",
       "    }\n",
       "\n",
       "    .dataframe thead th {\n",
       "        text-align: right;\n",
       "    }\n",
       "</style>\n",
       "<table border=\"1\" class=\"dataframe\">\n",
       "  <thead>\n",
       "    <tr style=\"text-align: right;\">\n",
       "      <th></th>\n",
       "      <th>date</th>\n",
       "      <th>time</th>\n",
       "      <th>height</th>\n",
       "      <th>high low</th>\n",
       "    </tr>\n",
       "  </thead>\n",
       "  <tbody>\n",
       "    <tr>\n",
       "      <th>0</th>\n",
       "      <td>1</td>\n",
       "      <td>0631</td>\n",
       "      <td>0.2</td>\n",
       "      <td>L</td>\n",
       "    </tr>\n",
       "    <tr>\n",
       "      <th>1</th>\n",
       "      <td>1</td>\n",
       "      <td>1333</td>\n",
       "      <td>2.5</td>\n",
       "      <td>H</td>\n",
       "    </tr>\n",
       "    <tr>\n",
       "      <th>2</th>\n",
       "      <td>1</td>\n",
       "      <td>1841</td>\n",
       "      <td>1.3</td>\n",
       "      <td>L</td>\n",
       "    </tr>\n",
       "    <tr>\n",
       "      <th>3</th>\n",
       "      <td>1</td>\n",
       "      <td>0020</td>\n",
       "      <td>2.8</td>\n",
       "      <td>H</td>\n",
       "    </tr>\n",
       "    <tr>\n",
       "      <th>4</th>\n",
       "      <td>2</td>\n",
       "      <td>0707</td>\n",
       "      <td>0.3</td>\n",
       "      <td>L</td>\n",
       "    </tr>\n",
       "    <tr>\n",
       "      <th>...</th>\n",
       "      <td>...</td>\n",
       "      <td>...</td>\n",
       "      <td>...</td>\n",
       "      <td>...</td>\n",
       "    </tr>\n",
       "    <tr>\n",
       "      <th>115</th>\n",
       "      <td>30</td>\n",
       "      <td>0009</td>\n",
       "      <td>2.8</td>\n",
       "      <td>H</td>\n",
       "    </tr>\n",
       "    <tr>\n",
       "      <th>116</th>\n",
       "      <td>31</td>\n",
       "      <td>0652</td>\n",
       "      <td>0.3</td>\n",
       "      <td>L</td>\n",
       "    </tr>\n",
       "    <tr>\n",
       "      <th>117</th>\n",
       "      <td>31</td>\n",
       "      <td>1335</td>\n",
       "      <td>2.5</td>\n",
       "      <td>H</td>\n",
       "    </tr>\n",
       "    <tr>\n",
       "      <th>118</th>\n",
       "      <td>31</td>\n",
       "      <td>1858</td>\n",
       "      <td>1.2</td>\n",
       "      <td>L</td>\n",
       "    </tr>\n",
       "    <tr>\n",
       "      <th>119</th>\n",
       "      <td>31</td>\n",
       "      <td>0041</td>\n",
       "      <td>2.9</td>\n",
       "      <td>H</td>\n",
       "    </tr>\n",
       "  </tbody>\n",
       "</table>\n",
       "<p>120 rows × 4 columns</p>\n",
       "</div>"
      ],
      "text/plain": [
       "    date  time height high low\n",
       "0      1  0631    0.2        L\n",
       "1      1  1333    2.5        H\n",
       "2      1  1841    1.3        L\n",
       "3      1  0020    2.8        H\n",
       "4      2  0707    0.3        L\n",
       "..   ...   ...    ...      ...\n",
       "115   30  0009    2.8        H\n",
       "116   31  0652    0.3        L\n",
       "117   31  1335    2.5        H\n",
       "118   31  1858    1.2        L\n",
       "119   31  0041    2.9        H\n",
       "\n",
       "[120 rows x 4 columns]"
      ]
     },
     "execution_count": 8,
     "metadata": {},
     "output_type": "execute_result"
    }
   ],
   "source": [
    "dfJul = pd.DataFrame(list(zip(dateList,timeList,heightList,highLowList)),\n",
    "                    columns = ['date','time','height','high low'])\n",
    "dfJul"
   ]
  },
  {
   "cell_type": "code",
   "execution_count": 9,
   "id": "abd2ce74",
   "metadata": {
    "execution": {
     "iopub.execute_input": "2022-06-08T11:51:45.136604Z",
     "iopub.status.busy": "2022-06-08T11:51:45.136048Z",
     "iopub.status.idle": "2022-06-08T11:51:45.144330Z",
     "shell.execute_reply": "2022-06-08T11:51:45.143462Z"
    },
    "papermill": {
     "duration": 0.015147,
     "end_time": "2022-06-08T11:51:45.146305",
     "exception": false,
     "start_time": "2022-06-08T11:51:45.131158",
     "status": "completed"
    },
    "tags": []
   },
   "outputs": [],
   "source": [
    "# save dataframe to csv file.\n",
    "os.chdir(r'/kaggle/working')\n",
    "\n",
    "dfJun.to_csv(r'jun.csv', index = False)\n",
    "dfJul.to_csv(r'jul.csv', index = False)"
   ]
  },
  {
   "cell_type": "code",
   "execution_count": null,
   "id": "e486affd",
   "metadata": {
    "papermill": {
     "duration": 0.003161,
     "end_time": "2022-06-08T11:51:45.153140",
     "exception": false,
     "start_time": "2022-06-08T11:51:45.149979",
     "status": "completed"
    },
    "tags": []
   },
   "outputs": [],
   "source": []
  }
 ],
 "metadata": {
  "kernelspec": {
   "display_name": "Python 3",
   "language": "python",
   "name": "python3"
  },
  "language_info": {
   "codemirror_mode": {
    "name": "ipython",
    "version": 3
   },
   "file_extension": ".py",
   "mimetype": "text/x-python",
   "name": "python",
   "nbconvert_exporter": "python",
   "pygments_lexer": "ipython3",
   "version": "3.7.12"
  },
  "papermill": {
   "default_parameters": {},
   "duration": 11.150295,
   "end_time": "2022-06-08T11:51:45.777027",
   "environment_variables": {},
   "exception": null,
   "input_path": "__notebook__.ipynb",
   "output_path": "__notebook__.ipynb",
   "parameters": {},
   "start_time": "2022-06-08T11:51:34.626732",
   "version": "2.3.4"
  }
 },
 "nbformat": 4,
 "nbformat_minor": 5
}
